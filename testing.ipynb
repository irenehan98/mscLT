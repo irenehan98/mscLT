{
 "cells": [
  {
   "cell_type": "code",
   "execution_count": 1,
   "outputs": [],
   "source": [
    "import numpy\n",
    "from matplotlib import pyplot"
   ],
   "metadata": {
    "collapsed": false,
    "ExecuteTime": {
     "end_time": "2023-08-31T12:44:20.810425305Z",
     "start_time": "2023-08-31T12:44:19.136958572Z"
    }
   },
   "id": "d70afebb0ad294f8"
  },
  {
   "cell_type": "code",
   "execution_count": 1,
   "outputs": [],
   "source": [
    "from utils.dataset import DeepScores"
   ],
   "metadata": {
    "collapsed": false,
    "ExecuteTime": {
     "end_time": "2023-09-01T10:02:20.179441205Z",
     "start_time": "2023-09-01T10:02:19.807110883Z"
    }
   },
   "id": "initial_id"
  },
  {
   "cell_type": "code",
   "execution_count": 2,
   "outputs": [
    {
     "name": "stdout",
     "output_type": "stream",
     "text": [
      "initializing...\n",
      "initialization done in 0.000009s\n",
      "loading annotations...\n",
      "basic info loaded in 1.948275s..\n"
     ]
    },
    {
     "name": "stderr",
     "output_type": "stream",
     "text": [
      "file processed: 100%|██████████| 2/2 [00:10<00:00,  5.44s/file]\n"
     ]
    },
    {
     "name": "stdout",
     "output_type": "stream",
     "text": [
      "--- ANNOTATION INFO ---\n",
      "DeepScore Dataset Annotation\n",
      "root file: /media/pw/TeamGroup/dataset/ds2_dense\n",
      "dataset type: dense\n",
      "Num images: 1714\n",
      "Num anns: 1134168\n",
      "Num cats: 208\n",
      "selected cats: 136\n",
      "--- ANNOTATION INFO ---\n",
      "loading annotations done in 13.09s\n"
     ]
    }
   ],
   "source": [
    "dataset_type = 'dense'\n",
    "root_dir = '/media/pw/TeamGroup/dataset/ds2_' + dataset_type\n",
    "ds = DeepScores(root_dir, dataset_type)\n",
    "ds.load_annotations(annotation_set_filter='deepscores', load_all=True)"
   ],
   "metadata": {
    "collapsed": false,
    "ExecuteTime": {
     "end_time": "2023-09-01T10:02:33.413626365Z",
     "start_time": "2023-09-01T10:02:20.173174305Z"
    }
   },
   "id": "c608e5a8783c2fa"
  },
  {
   "cell_type": "code",
   "execution_count": null,
   "outputs": [
    {
     "name": "stdout",
     "output_type": "stream",
     "text": [
      "initiate cropping...\n"
     ]
    },
    {
     "name": "stderr",
     "output_type": "stream",
     "text": [
      "progress:  28%|██▊       | 474/1714 [3:45:38<57:54:13, 168.11s/img]"
     ]
    }
   ],
   "source": [
    "ds.crop_all_to_instances(out_dir=root_dir+'/cropped', resize=(150,150), bg_opacity=25)"
   ],
   "metadata": {
    "collapsed": false,
    "ExecuteTime": {
     "start_time": "2023-09-01T10:02:33.415790737Z"
    }
   },
   "id": "9c853d0073d69904"
  },
  {
   "cell_type": "code",
   "execution_count": null,
   "outputs": [],
   "source": [
    "cat_cnt = ds.cat_instance_count\n",
    "sorted_cats = sorted(cat_cnt.items(), key=lambda item: item[1], reverse=True)\n",
    "print(sorted_cats)"
   ],
   "metadata": {
    "collapsed": false
   },
   "id": "69ac7ce9f45513a6"
  },
  {
   "cell_type": "code",
   "execution_count": 4,
   "outputs": [
    {
     "name": "stderr",
     "output_type": "stream",
     "text": [
      "train file checked: 100%|██████████| 103/103 [19:57<00:00, 11.62s/file]\n",
      "test file checked: 100%|██████████| 26/26 [04:56<00:00, 11.39s/file]\n"
     ]
    },
    {
     "name": "stdout",
     "output_type": "stream",
     "text": [
      "0 overlap out of 51077 test and 204308 train images.\n"
     ]
    },
    {
     "data": {
      "text/plain": "set()"
     },
     "execution_count": 4,
     "metadata": {},
     "output_type": "execute_result"
    }
   ],
   "source": [
    "ds.check_overlap_train_test()"
   ],
   "metadata": {
    "collapsed": false,
    "ExecuteTime": {
     "end_time": "2023-08-31T15:14:40.943992371Z",
     "start_time": "2023-08-31T14:49:47.041122952Z"
    }
   },
   "id": "fb203aea31b36a23"
  },
  {
   "cell_type": "code",
   "execution_count": null,
   "outputs": [],
   "source": [
    "x, y = [], []\n",
    "i = 0\n",
    "for cat_id, count in sorted_cats:\n",
    "    i += 1\n",
    "    x.append(i)\n",
    "    y.append(count)"
   ],
   "metadata": {
    "collapsed": false
   },
   "id": "b6ddfa0e81fa7250"
  },
  {
   "cell_type": "code",
   "execution_count": null,
   "outputs": [],
   "source": [
    "pyplot.plot(x, numpy.array(y))\n",
    "pyplot.ticklabel_format(axis=y, style='sci', scilimits=(0,0))\n",
    "pyplot.show()"
   ],
   "metadata": {
    "collapsed": false
   },
   "id": "34fa04f97f4563c2"
  },
  {
   "cell_type": "code",
   "execution_count": 2,
   "outputs": [
    {
     "name": "stdout",
     "output_type": "stream",
     "text": [
      "initializing...\n",
      "initialization done in 0.001948s\n",
      "loading annotations...\n",
      "--- ANNOTATION INFO ---\n",
      "DeepScore Dataset Annotation\n",
      "root file: /media/pw/TeamGroup/dataset/ds2_complete\n",
      "dataset type: complete\n",
      "Num images: 6000\n",
      "Num anns: 2821505\n",
      "Num cats: 208\n",
      "selected cats: 136\n",
      "--- ANNOTATION INFO ---\n",
      "loading annotations done in 37.01s\n"
     ]
    }
   ],
   "source": [
    "ds = DeepScores('/media/pw/TeamGroup/dataset/ds2_complete', 'complete')\n",
    "ds.load_annotations(annotation_set_filter='deepscores')"
   ],
   "metadata": {
    "collapsed": false,
    "ExecuteTime": {
     "start_time": "2023-08-31T08:01:46.676645938Z"
    }
   },
   "id": "8f2c6b3247ff4478"
  },
  {
   "cell_type": "code",
   "execution_count": 3,
   "outputs": [
    {
     "name": "stdout",
     "output_type": "stream",
     "text": [
      "initializing...\n",
      "initialization done in 0.000015s\n",
      "loading annotations...\n",
      "                                                       1020  \\\n",
      "a_bbox                        [116.0, 139.0, 2315.0, 206.0]   \n",
      "o_bbox    [2315.0, 206.0, 2315.0, 139.0, 116.0, 139.0, 1...   \n",
      "cat_id                                           [135, 208]   \n",
      "area                                                  18945   \n",
      "img_id                                                  679   \n",
      "comments                                  instance:#000010;   \n",
      "\n",
      "                                                       1021  \\\n",
      "a_bbox                        [116.0, 309.0, 2315.0, 376.0]   \n",
      "o_bbox    [2315.0, 376.0, 2315.0, 309.0, 116.0, 309.0, 1...   \n",
      "cat_id                                           [135, 208]   \n",
      "area                                                  19223   \n",
      "img_id                                                  679   \n",
      "comments                                  instance:#000021;   \n",
      "\n",
      "                                                       1022  \\\n",
      "a_bbox                       [1880.0, 561.0, 1911.0, 564.0]   \n",
      "o_bbox    [1911.0, 564.0, 1911.0, 561.0, 1880.0, 561.0, ...   \n",
      "cat_id                                             [2, 138]   \n",
      "area                                                    120   \n",
      "img_id                                                  679   \n",
      "comments                                  instance:#000022;   \n",
      "\n",
      "                                                       1023  \\\n",
      "a_bbox                       [1883.0, 578.0, 1911.0, 580.0]   \n",
      "o_bbox    [1911.0, 580.0, 1911.0, 578.0, 1883.0, 578.0, ...   \n",
      "cat_id                                             [2, 138]   \n",
      "area                                                     27   \n",
      "img_id                                                  679   \n",
      "comments                                  instance:#000023;   \n",
      "\n",
      "                                                       1024  \\\n",
      "a_bbox                       [1827.0, 561.0, 1857.0, 564.0]   \n",
      "o_bbox    [1857.0, 564.0, 1857.0, 561.0, 1827.0, 561.0, ...   \n",
      "cat_id                                             [2, 138]   \n",
      "area                                                    112   \n",
      "img_id                                                  679   \n",
      "comments                                  instance:#000024;   \n",
      "\n",
      "                                                       1025  \\\n",
      "a_bbox                       [1827.0, 578.0, 1857.0, 580.0]   \n",
      "o_bbox    [1857.0, 580.0, 1857.0, 578.0, 1827.0, 578.0, ...   \n",
      "cat_id                                             [2, 138]   \n",
      "area                                                     32   \n",
      "img_id                                                  679   \n",
      "comments                                  instance:#000025;   \n",
      "\n",
      "                                                       1026  \\\n",
      "a_bbox                       [1773.0, 561.0, 1804.0, 564.0]   \n",
      "o_bbox    [1804.0, 564.0, 1804.0, 561.0, 1773.0, 561.0, ...   \n",
      "cat_id                                             [2, 138]   \n",
      "area                                                    120   \n",
      "img_id                                                  679   \n",
      "comments                                  instance:#000026;   \n",
      "\n",
      "                                                       1027  \\\n",
      "a_bbox                       [1773.0, 578.0, 1804.0, 580.0]   \n",
      "o_bbox    [1804.0, 580.0, 1804.0, 578.0, 1773.0, 578.0, ...   \n",
      "cat_id                                             [2, 138]   \n",
      "area                                                     71   \n",
      "img_id                                                  679   \n",
      "comments                                  instance:#000027;   \n",
      "\n",
      "                                                       1028  \\\n",
      "a_bbox                       [1718.0, 561.0, 1748.0, 564.0]   \n",
      "o_bbox    [1748.0, 564.0, 1748.0, 561.0, 1718.0, 561.0, ...   \n",
      "cat_id                                             [2, 138]   \n",
      "area                                                    112   \n",
      "img_id                                                  679   \n",
      "comments                                  instance:#000028;   \n",
      "\n",
      "                                                       1029  ...  \\\n",
      "a_bbox                       [1718.0, 578.0, 1748.0, 580.0]  ...   \n",
      "o_bbox    [1748.0, 580.0, 1748.0, 578.0, 1718.0, 578.0, ...  ...   \n",
      "cat_id                                             [2, 138]  ...   \n",
      "area                                                     84  ...   \n",
      "img_id                                                  679  ...   \n",
      "comments                                  instance:#000029;  ...   \n",
      "\n",
      "                                                    1134159  \\\n",
      "a_bbox                       [756.0, 2265.0, 772.0, 2291.0]   \n",
      "o_bbox    [772.0, 2291.0, 768.4017333984375, 2264.013183...   \n",
      "cat_id                                            [14, 147]   \n",
      "area                                                    236   \n",
      "img_id                                                  833   \n",
      "comments                                  instance:#000075;   \n",
      "\n",
      "                                                    1134160  \\\n",
      "a_bbox                       [773.0, 2264.0, 797.0, 2292.0]   \n",
      "o_bbox    [797.0, 2264.0, 773.0, 2264.0, 773.0, 2292.0, ...   \n",
      "cat_id                                            [13, 146]   \n",
      "area                                                    364   \n",
      "img_id                                                  833   \n",
      "comments                                  instance:#000076;   \n",
      "\n",
      "                                                    1134161  \\\n",
      "a_bbox                       [766.0, 2298.0, 787.0, 2324.0]   \n",
      "o_bbox    [787.0, 2298.0, 766.0, 2298.0, 766.0, 2324.0, ...   \n",
      "cat_id                                            [17, 150]   \n",
      "area                                                    293   \n",
      "img_id                                                  833   \n",
      "comments                                  instance:#000077;   \n",
      "\n",
      "                                                    1134162  \\\n",
      "a_bbox                         [868.0, 183.0, 873.0, 188.0]   \n",
      "o_bbox    [873.0, 183.0, 868.0, 183.0, 868.0, 188.0, 873...   \n",
      "cat_id                                            [41, 160]   \n",
      "area                                                     32   \n",
      "img_id                                                  833   \n",
      "comments                                  instance:#000078;   \n",
      "\n",
      "                                                    1134163  \\\n",
      "a_bbox                       [243.0, 1196.0, 272.0, 1213.0]   \n",
      "o_bbox    [272.0, 1196.0, 243.0, 1196.0, 243.0, 1213.0, ...   \n",
      "cat_id                                            [35, 159]   \n",
      "area                                                    263   \n",
      "img_id                                                  833   \n",
      "comments        instance:#000079;duration:1;rel_position:1;   \n",
      "\n",
      "                                                    1134164  \\\n",
      "a_bbox                       [107.0, 2262.0, 149.0, 2313.0]   \n",
      "o_bbox    [149.0, 2262.0, 107.0, 2262.0, 107.0, 2313.0, ...   \n",
      "cat_id                                             [9, 144]   \n",
      "area                                                    609   \n",
      "img_id                                                  833   \n",
      "comments                                  instance:#00007a;   \n",
      "\n",
      "                                                    1134165  \\\n",
      "a_bbox                         [243.0, 177.0, 272.0, 194.0]   \n",
      "o_bbox    [272.0, 177.0, 243.0, 177.0, 243.0, 194.0, 272...   \n",
      "cat_id                                            [35, 159]   \n",
      "area                                                    260   \n",
      "img_id                                                  833   \n",
      "comments       instance:#00007b;duration:1;rel_position:-3;   \n",
      "\n",
      "                                                    1134166  \\\n",
      "a_bbox                       [243.0, 1500.0, 272.0, 1517.0]   \n",
      "o_bbox    [272.0, 1500.0, 243.0, 1500.0, 243.0, 1517.0, ...   \n",
      "cat_id                                            [35, 159]   \n",
      "area                                                    266   \n",
      "img_id                                                  833   \n",
      "comments       instance:#00007c;duration:1;rel_position:-3;   \n",
      "\n",
      "                                                    1134167  \\\n",
      "a_bbox                       [243.0, 2016.0, 272.0, 2033.0]   \n",
      "o_bbox    [272.0, 2016.0, 243.0, 2016.0, 243.0, 2033.0, ...   \n",
      "cat_id                                            [33, 159]   \n",
      "area                                                    264   \n",
      "img_id                                                  833   \n",
      "comments        instance:#00007d;duration:1;rel_position:0;   \n",
      "\n",
      "                                                    1134168  \n",
      "a_bbox                       [243.0, 1729.0, 272.0, 1746.0]  \n",
      "o_bbox    [272.0, 1729.0, 243.0, 1729.0, 243.0, 1746.0, ...  \n",
      "cat_id                                            [33, 159]  \n",
      "area                                                    267  \n",
      "img_id                                                  833  \n",
      "comments        instance:#00007e;duration:1;rel_position:2;  \n",
      "\n",
      "[6 rows x 889833 columns]\n",
      "-------------------------------------------------------\n",
      "                                 a_bbox  \\\n",
      "1020      [116.0, 139.0, 2315.0, 206.0]   \n",
      "1021      [116.0, 309.0, 2315.0, 376.0]   \n",
      "1022     [1880.0, 561.0, 1911.0, 564.0]   \n",
      "1023     [1883.0, 578.0, 1911.0, 580.0]   \n",
      "1024     [1827.0, 561.0, 1857.0, 564.0]   \n",
      "...                                 ...   \n",
      "1134164  [107.0, 2262.0, 149.0, 2313.0]   \n",
      "1134165    [243.0, 177.0, 272.0, 194.0]   \n",
      "1134166  [243.0, 1500.0, 272.0, 1517.0]   \n",
      "1134167  [243.0, 2016.0, 272.0, 2033.0]   \n",
      "1134168  [243.0, 1729.0, 272.0, 1746.0]   \n",
      "\n",
      "                                                    o_bbox      cat_id   area  \\\n",
      "1020     [2315.0, 206.0, 2315.0, 139.0, 116.0, 139.0, 1...  [135, 208]  18945   \n",
      "1021     [2315.0, 376.0, 2315.0, 309.0, 116.0, 309.0, 1...  [135, 208]  19223   \n",
      "1022     [1911.0, 564.0, 1911.0, 561.0, 1880.0, 561.0, ...    [2, 138]    120   \n",
      "1023     [1911.0, 580.0, 1911.0, 578.0, 1883.0, 578.0, ...    [2, 138]     27   \n",
      "1024     [1857.0, 564.0, 1857.0, 561.0, 1827.0, 561.0, ...    [2, 138]    112   \n",
      "...                                                    ...         ...    ...   \n",
      "1134164  [149.0, 2262.0, 107.0, 2262.0, 107.0, 2313.0, ...    [9, 144]    609   \n",
      "1134165  [272.0, 177.0, 243.0, 177.0, 243.0, 194.0, 272...   [35, 159]    260   \n",
      "1134166  [272.0, 1500.0, 243.0, 1500.0, 243.0, 1517.0, ...   [35, 159]    266   \n",
      "1134167  [272.0, 2016.0, 243.0, 2016.0, 243.0, 2033.0, ...   [33, 159]    264   \n",
      "1134168  [272.0, 1729.0, 243.0, 1729.0, 243.0, 1746.0, ...   [33, 159]    267   \n",
      "\n",
      "        img_id                                      comments  \n",
      "1020       679                             instance:#000010;  \n",
      "1021       679                             instance:#000021;  \n",
      "1022       679                             instance:#000022;  \n",
      "1023       679                             instance:#000023;  \n",
      "1024       679                             instance:#000024;  \n",
      "...        ...                                           ...  \n",
      "1134164    833                             instance:#00007a;  \n",
      "1134165    833  instance:#00007b;duration:1;rel_position:-3;  \n",
      "1134166    833  instance:#00007c;duration:1;rel_position:-3;  \n",
      "1134167    833   instance:#00007d;duration:1;rel_position:0;  \n",
      "1134168    833   instance:#00007e;duration:1;rel_position:2;  \n",
      "\n",
      "[889833 rows x 6 columns]\n",
      "[debug] /media/pw/TeamGroup/dataset/ds2_dense/deepscores_train.json has 5338998 annotations\n",
      "concatenating dataframes of size: [5338998]\n",
      "--- ANNOTATION INFO ---\n",
      "DeepScore Dataset Annotation\n",
      "root file: /media/pw/TeamGroup/dataset/ds2_dense\n",
      "Num images: 1362\n",
      "Num anns: 889833\n",
      "Num cats: 208\n",
      "selected cats: 136\n",
      "--- ANNOTATION INFO ---\n",
      "loading annotations done in 28.36s\n"
     ]
    }
   ],
   "source": [
    "ds = DeepScores('/media/pw/TeamGroup/dataset/ds2_dense', 'dense')\n",
    "ds.load_annotations(annotation_set_filter='deepscores')"
   ],
   "metadata": {
    "collapsed": false,
    "ExecuteTime": {
     "start_time": "2023-08-31T07:49:52.503674241Z"
    }
   },
   "id": "8a73bc7505bba0cc"
  },
  {
   "cell_type": "code",
   "execution_count": 3,
   "outputs": [
    {
     "name": "stdout",
     "output_type": "stream",
     "text": [
      "initiate cropping...\n",
      "wdiff: 0 hdiff: 83\n",
      "bg: (93.0, 122.5, 1866.0, 272.5)\n",
      "cropped: (1773, 67) bg: (1773, 150)\n",
      "result: (150, 150)\n",
      "[{'image_id': 1, 'im_height': 150, 'im_width': 150, 'category_id': 135, 'fpath': '/media/pw/TeamGroup/dataset/ds2_dense/train/staff-000001.png'}]\n",
      "[{'image_id': 1, 'im_height': 150, 'im_width': 150, 'category_id': 135, 'fpath': '/media/pw/TeamGroup/dataset/ds2_dense/train/staff-000001.png'}]\n",
      "class_counter: {135: 1}\n",
      "remapping categories...\n",
      "key 0 not in class_counter; rev_cat_ctr: (136, False)\n",
      "key 135 is remapped to 0\n",
      "rev_cat_ctr: 134\n",
      "new mapping: {135: 0}\n",
      "remapped 1 annotations in t=9.5367431640625e-07s\n",
      "done t=0.104128s: total annotation 1 with 1 out of 134 classes\n"
     ]
    },
    {
     "data": {
      "text/plain": "(1, {135: 1})"
     },
     "execution_count": 3,
     "metadata": {},
     "output_type": "execute_result"
    }
   ],
   "source": [
    "ds.crop_all_to_instances(out_dir='/media/pw/TeamGroup/dataset/ds2_dense/train/', out_annot='debug_ignore.json', ann_style=\"BBN\", resize=(150,150), bg_opacity=25, debug=True)"
   ],
   "metadata": {
    "collapsed": false,
    "ExecuteTime": {
     "end_time": "2023-08-30T15:11:24.062129748Z",
     "start_time": "2023-08-30T15:11:23.952593540Z"
    }
   },
   "id": "acd24c4baa0ab162"
  },
  {
   "cell_type": "code",
   "execution_count": 4,
   "outputs": [],
   "source": [
    "ds.visualize(img_idx=1)"
   ],
   "metadata": {
    "collapsed": false,
    "ExecuteTime": {
     "end_time": "2023-08-30T15:11:24.063872245Z",
     "start_time": "2023-08-30T15:11:24.061847935Z"
    }
   },
   "id": "bffc022b3546bcd2"
  }
 ],
 "metadata": {
  "kernelspec": {
   "display_name": "Python 3",
   "language": "python",
   "name": "python3"
  },
  "language_info": {
   "codemirror_mode": {
    "name": "ipython",
    "version": 2
   },
   "file_extension": ".py",
   "mimetype": "text/x-python",
   "name": "python",
   "nbconvert_exporter": "python",
   "pygments_lexer": "ipython2",
   "version": "2.7.6"
  }
 },
 "nbformat": 4,
 "nbformat_minor": 5
}
