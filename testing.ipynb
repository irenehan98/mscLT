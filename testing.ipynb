{
 "cells": [
  {
   "cell_type": "code",
   "execution_count": 1,
   "id": "initial_id",
   "metadata": {
    "collapsed": true,
    "ExecuteTime": {
     "end_time": "2023-08-30T14:29:56.806109879Z",
     "start_time": "2023-08-30T14:29:56.567875699Z"
    }
   },
   "outputs": [],
   "source": [
    "from utils.dataset import DeepScores"
   ]
  },
  {
   "cell_type": "code",
   "execution_count": 2,
   "outputs": [
    {
     "name": "stdout",
     "output_type": "stream",
     "text": [
      "initializing...\n",
      "initialization done in 0.000012s\n",
      "loading annotations...\n",
      "--- ANNOTATION INFO ---\n",
      "DeepScore Dataset Annotation\n",
      "root file: /media/pw/TeamGroup/dataset/ds2_dense\n",
      "Num images: 1362\n",
      "Num anns: 889833\n",
      "Num cats: 208\n",
      "--- ANNOTATION INFO ---\n",
      "loading annotations done in 8.49s\n"
     ]
    }
   ],
   "source": [
    "ds = DeepScores('/media/pw/TeamGroup/dataset/ds2_dense', 'dense')\n",
    "ds.load_annotations(annotation_set_filter='deepscores')"
   ],
   "metadata": {
    "collapsed": false,
    "ExecuteTime": {
     "end_time": "2023-08-30T14:30:05.550492188Z",
     "start_time": "2023-08-30T14:29:56.870894732Z"
    }
   },
   "id": "8a73bc7505bba0cc"
  },
  {
   "cell_type": "code",
   "execution_count": 3,
   "outputs": [
    {
     "name": "stdout",
     "output_type": "stream",
     "text": [
      "initiating crops...\n",
      "progress: 0%\n",
      "wdiff: 0 hdiff: 83\n",
      "bg: (93.0, 122.5, 1866.0, 272.5)\n",
      "cropped: (1773, 67) bg: (1773, 150)\n",
      "result: (150, 150)\n",
      "[{'image_id': 1, 'im_height': 150, 'im_width': 150, 'category_id': 135, 'fpath': '/media/pw/TeamGroup/dataset/ds2_dense/train/staff-000001.png'}]\n",
      "[{'image_id': 1, 'im_height': 150, 'im_width': 150, 'category_id': 135, 'fpath': '/media/pw/TeamGroup/dataset/ds2_dense/train/staff-000001.png'}]\n",
      "class_counter: {135: 1}\n",
      "remapping categories...\n",
      "key 0 not in class_counter; rev_cat_ctr: (136, False)\n",
      "key 135 is remapped to 0\n",
      "rev_cat_ctr: 134\n",
      "new mapping: {135: 0}\n",
      "remapped 1 annotations in t=4.482269287109375e-05s\n",
      "done t=0.1031641960144043s: total annotation 1 with 1 out of 134 classes\n"
     ]
    },
    {
     "data": {
      "text/plain": "(1, {135: 1})"
     },
     "execution_count": 3,
     "metadata": {},
     "output_type": "execute_result"
    }
   ],
   "source": [
    "ds.crop_all_to_instances(out_dir='/media/pw/TeamGroup/dataset/ds2_dense/train/', out_annot='debug_ignore.json', ann_style=\"BBN\", resize=(150,150), bg_opacity=25, debug=True)"
   ],
   "metadata": {
    "collapsed": false,
    "ExecuteTime": {
     "end_time": "2023-08-30T14:30:05.662034356Z",
     "start_time": "2023-08-30T14:30:05.553088282Z"
    }
   },
   "id": "acd24c4baa0ab162"
  },
  {
   "cell_type": "code",
   "execution_count": null,
   "outputs": [],
   "source": [
    "ds.visualize(img_idx=1)"
   ],
   "metadata": {
    "collapsed": false
   },
   "id": "bffc022b3546bcd2"
  }
 ],
 "metadata": {
  "kernelspec": {
   "display_name": "Python 3",
   "language": "python",
   "name": "python3"
  },
  "language_info": {
   "codemirror_mode": {
    "name": "ipython",
    "version": 2
   },
   "file_extension": ".py",
   "mimetype": "text/x-python",
   "name": "python",
   "nbconvert_exporter": "python",
   "pygments_lexer": "ipython2",
   "version": "2.7.6"
  }
 },
 "nbformat": 4,
 "nbformat_minor": 5
}
